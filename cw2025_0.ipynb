{
 "cells": [
  {
   "cell_type": "code",
   "execution_count": 1,
   "id": "49257c99-be54-496d-a07a-75a3e9609bd9",
   "metadata": {},
   "outputs": [],
   "source": [
    "import numpy as np\n",
    "import itertools\n",
    "import functools"
   ]
  },
  {
   "cell_type": "code",
   "execution_count": 2,
   "id": "b8369e00-01e6-480a-9a20-8bfb6354b532",
   "metadata": {},
   "outputs": [],
   "source": [
    "n = 3\n",
    "def encode(m):\n",
    "    return sum(2**k for k, e in enumerate(m.flatten()) if e)\n",
    "\n",
    "def decode(c, a=n, b=3):\n",
    "    return np.array([1 if c & (1 << k) else 0 for k in range(a*b)], dtype=object).reshape(a, b)"
   ]
  },
  {
   "cell_type": "code",
   "execution_count": 3,
   "id": "ce98d2e8-5935-49ad-82f5-bfc97d6d20cf",
   "metadata": {},
   "outputs": [],
   "source": [
    "def cyclic_permutation_gen():\n",
    "    for k in range(3):\n",
    "        yield [(k + i) % 3 for i in range(3)]\n",
    "\n",
    "@functools.cache\n",
    "def column_min(c):\n",
    "    m = decode(c)\n",
    "    return min(encode(m[:, p]) for p in cyclic_permutation_gen())"
   ]
  },
  {
   "cell_type": "code",
   "execution_count": 4,
   "id": "d709cfe5-1e4a-40f5-a351-03f1824e1d6e",
   "metadata": {},
   "outputs": [],
   "source": [
    "ms = set()\n",
    "for codes in itertools.product(range(1, 2**n), repeat=3):\n",
    "    m = np.concatenate(tuple(decode(c, n, 1) for c in codes), axis=1)\n",
    "    ms.add(column_min(encode(m)))\n",
    "ms = sorted(ms)"
   ]
  },
  {
   "cell_type": "code",
   "execution_count": 5,
   "id": "f4e52171-f90f-4a54-8d37-ea1d8c5f83bc",
   "metadata": {},
   "outputs": [
    {
     "data": {
      "text/plain": [
       "119"
      ]
     },
     "execution_count": 5,
     "metadata": {},
     "output_type": "execute_result"
    }
   ],
   "source": [
    "len(ms)"
   ]
  },
  {
   "cell_type": "code",
   "execution_count": 6,
   "id": "1adb6569-7136-4a2a-9bdd-cd213bc4898c",
   "metadata": {},
   "outputs": [],
   "source": [
    "ms0 = set()\n",
    "for codes in itertools.product(range(0, 2**n), repeat=2):\n",
    "    m = np.concatenate(tuple(decode(c, n, 1) for c in (0,) + codes), axis=1)\n",
    "    ms0.add(column_min(encode(m)))\n",
    "ms0 = sorted(ms0)"
   ]
  },
  {
   "cell_type": "code",
   "execution_count": 7,
   "id": "88b02cad-66b8-461e-911a-72bb10a7ba2b",
   "metadata": {},
   "outputs": [
    {
     "data": {
      "text/plain": [
       "57"
      ]
     },
     "execution_count": 7,
     "metadata": {},
     "output_type": "execute_result"
    }
   ],
   "source": [
    "len(ms0)"
   ]
  },
  {
   "cell_type": "code",
   "execution_count": 8,
   "id": "a90ae5d4-c5fa-4d80-b46a-7667725f502f",
   "metadata": {},
   "outputs": [],
   "source": [
    "@functools.cache\n",
    "def unfold(c):\n",
    "    m = decode(c)\n",
    "    res = 0\n",
    "    for i, j, k in itertools.product(range(n), repeat=3):\n",
    "        res ^= ((m[i, 0] & m[j, 1] & m[k, 2]) ^ (m[i, 1] & m[j, 2] & m[k, 0]) ^ (m[i, 2] & m[j, 0] & m[k, 1])) << (n*n*i + n*j + k)\n",
    "    return res"
   ]
  },
  {
   "cell_type": "code",
   "execution_count": 9,
   "id": "98cd24f6-0b60-4b64-80c3-bbc857d9ec4e",
   "metadata": {},
   "outputs": [
    {
     "data": {
      "text/plain": [
       "'0b11111111111101111111111110'"
      ]
     },
     "execution_count": 9,
     "metadata": {},
     "output_type": "execute_result"
    }
   ],
   "source": [
    "T = sum(1 << ((n*n + n + 1)*k) for k in range(n))\n",
    "T ^= unfold(2 ** (3*n) - 1)\n",
    "bin(T)"
   ]
  },
  {
   "cell_type": "code",
   "execution_count": 10,
   "id": "1efdea8f-103b-4a18-b140-e814fc2d0f06",
   "metadata": {},
   "outputs": [],
   "source": [
    "_agapl = [list(p) for p in itertools.permutations(range(n))]\n",
    "gs = tuple(range(2 * len(_agapl)))\n",
    "@functools.cache\n",
    "def apply_group_action(c, g):\n",
    "    m = decode(c)\n",
    "    if g // len(_agapl):\n",
    "        m = m[:, [0, 2, 1]]\n",
    "    return column_min(encode(m[_agapl[g % len(_agapl)]]))"
   ]
  },
  {
   "cell_type": "code",
   "execution_count": 11,
   "id": "1846cdfa-5c5d-44b6-a553-7bdf22866d7e",
   "metadata": {},
   "outputs": [],
   "source": [
    "def separate_orbits(codes):\n",
    "    seen = set()\n",
    "    orbits = []\n",
    "    for c in codes:\n",
    "        if c in seen:\n",
    "            continue\n",
    "        orbit = tuple(sorted(set(apply_group_action(c, g) for g in gs)))\n",
    "        orbits.append(orbit)\n",
    "        seen.update(orbit)\n",
    "    return orbits\n",
    "orbits = separate_orbits(ms)\n",
    "orbits_lens = tuple(len(orbit) for orbit in orbits)\n",
    "orbits0 = separate_orbits(ms0)\n",
    "orbits_lens0 = tuple(len(orbit) for orbit in orbits0)"
   ]
  },
  {
   "cell_type": "code",
   "execution_count": 12,
   "id": "a540a415-3bd9-43cf-9fe0-9d26c973db81",
   "metadata": {},
   "outputs": [
    {
     "name": "stdout",
     "output_type": "stream",
     "text": [
      "23\n",
      "(3, 6, 6, 6, 6, 3, 3, 3, 2, 12, 6, 6, 12, 12, 3, 6, 3, 6, 3, 2, 6, 3, 1)\n",
      "13\n",
      "(1, 3, 3, 3, 6, 12, 3, 1, 6, 6, 6, 6, 1)\n"
     ]
    }
   ],
   "source": [
    "print(len(orbits))\n",
    "print(orbits_lens)\n",
    "print(len(orbits0))\n",
    "print(orbits_lens0)"
   ]
  },
  {
   "cell_type": "code",
   "execution_count": 13,
   "id": "39810774-13fe-4720-9fcf-b79f58015f77",
   "metadata": {},
   "outputs": [],
   "source": [
    "def zero_saturate(r, depth, aut, prefix):\n",
    "    if depth == len(orbits0):\n",
    "        if r == 0:\n",
    "            yield prefix\n",
    "        return\n",
    "    for k in range(min(r, orbits_lens0[depth]) + 1):\n",
    "        for pack in itertools.combinations_with_replacement(orbits0[depth], k):\n",
    "            new_aut = []\n",
    "            for g in aut:\n",
    "                g_pack = tuple(sorted(apply_group_action(c, g) for c in pack))\n",
    "                if g_pack < pack:\n",
    "                    break\n",
    "                if g_pack == pack:\n",
    "                    new_aut.append(g)\n",
    "            else:\n",
    "                yield from zero_saturate(r - k, depth + 1, tuple(new_aut), prefix + pack)"
   ]
  },
  {
   "cell_type": "code",
   "execution_count": 14,
   "id": "87f7d264-464c-45d6-a722-f232c0c6c81c",
   "metadata": {},
   "outputs": [],
   "source": [
    "def pair_saturate(r, depth, aut, prefix):\n",
    "    if depth == len(orbits):\n",
    "        yield from zero_saturate(r, 0, aut, prefix)\n",
    "        return\n",
    "    for k in range(min(r // 2, orbits_lens[depth]) + 1):\n",
    "        for pack in itertools.combinations_with_replacement(orbits[depth], k):\n",
    "            new_aut = []\n",
    "            for g in aut:\n",
    "                g_pack = tuple(sorted(apply_group_action(c, g) for c in pack))\n",
    "                if g_pack < pack:\n",
    "                    break\n",
    "                if g_pack == pack:\n",
    "                    new_aut.append(g)\n",
    "            else:\n",
    "                yield from pair_saturate(r - 2*k, depth + 1, tuple(new_aut), prefix + pack + pack)"
   ]
  },
  {
   "cell_type": "code",
   "execution_count": 15,
   "id": "4cf7dd3b-d386-4a1d-9935-f6702fe545e3",
   "metadata": {},
   "outputs": [],
   "source": [
    "def main_generator(r, depth=0, s=0, aut=gs[1:], prefix=()):\n",
    "    if depth == len(orbits):\n",
    "        if s == T:\n",
    "            yield from pair_saturate(r, 0, aut, prefix)\n",
    "        return\n",
    "    for k in range(min(r, orbits_lens[depth]) + 1):\n",
    "        for pack in itertools.combinations(orbits[depth], k):\n",
    "            new_aut = []\n",
    "            for g in aut:\n",
    "                g_pack = tuple(sorted(apply_group_action(c, g) for c in pack))\n",
    "                if g_pack < pack:\n",
    "                    break\n",
    "                if g_pack == pack:\n",
    "                    new_aut.append(g)\n",
    "            else:\n",
    "                new_s = s\n",
    "                for c in pack:\n",
    "                    new_s ^= unfold(c)\n",
    "                yield from main_generator(r - k, depth + 1, new_s, tuple(new_aut), prefix + pack)"
   ]
  },
  {
   "cell_type": "code",
   "execution_count": 16,
   "id": "cdf6abad-bee7-41aa-ae39-f36f3e1392d7",
   "metadata": {},
   "outputs": [
    {
     "name": "stdout",
     "output_type": "stream",
     "text": [
      "len(result) = 4612257\n",
      "CPU times: user 16min 57s, sys: 291 ms, total: 16min 57s\n",
      "Wall time: 16min 57s\n"
     ]
    }
   ],
   "source": [
    "%%time\n",
    "result = list(main_generator(6))\n",
    "print(f'{len(result) = }')"
   ]
  },
  {
   "cell_type": "code",
   "execution_count": 17,
   "id": "966749f1-f2f4-4203-92cf-1bda5ee57863",
   "metadata": {},
   "outputs": [
    {
     "data": {
      "text/plain": [
       "[(238, 239, 247, 91, 91, 219),\n",
       " (238, 239, 247, 91, 109, 219),\n",
       " (238, 239, 247, 91, 203, 219),\n",
       " (238, 239, 247, 91, 211, 219),\n",
       " (238, 239, 247, 91, 217, 219),\n",
       " (238, 239, 247, 91, 218, 219),\n",
       " (238, 239, 247, 109, 109, 219),\n",
       " (238, 239, 247, 109, 203, 219),\n",
       " (238, 239, 247, 109, 217, 219),\n",
       " (238, 239, 247, 109, 218, 219)]"
      ]
     },
     "execution_count": 17,
     "metadata": {},
     "output_type": "execute_result"
    }
   ],
   "source": [
    "result[:10]"
   ]
  },
  {
   "cell_type": "code",
   "execution_count": 18,
   "id": "af90cfcc-2b17-4601-b6dd-11bbbe89e9fe",
   "metadata": {},
   "outputs": [],
   "source": [
    "import pickle\n",
    "with open(f'result{n}.pickle', 'wb') as fout:\n",
    "    pickle.dump(result, fout)"
   ]
  },
  {
   "cell_type": "code",
   "execution_count": null,
   "id": "2b0ff335-2759-4264-a485-2a59c269fd84",
   "metadata": {},
   "outputs": [],
   "source": []
  }
 ],
 "metadata": {
  "kernelspec": {
   "display_name": "Python 3 (ipykernel)",
   "language": "python",
   "name": "python3"
  },
  "language_info": {
   "codemirror_mode": {
    "name": "ipython",
    "version": 3
   },
   "file_extension": ".py",
   "mimetype": "text/x-python",
   "name": "python",
   "nbconvert_exporter": "python",
   "pygments_lexer": "ipython3",
   "version": "3.11.2"
  }
 },
 "nbformat": 4,
 "nbformat_minor": 5
}
