{
 "cells": [
  {
   "cell_type": "code",
   "execution_count": 1,
   "id": "49f9d903-dec6-4afc-9faa-1baa17598ab2",
   "metadata": {},
   "outputs": [],
   "source": [
    "import numpy as np\n",
    "import itertools\n",
    "import functools\n",
    "import z3\n",
    "import time\n",
    "from tqdm.contrib.concurrent import process_map"
   ]
  },
  {
   "cell_type": "code",
   "execution_count": 2,
   "id": "4102388e-84cb-4279-b5c7-26621d56055f",
   "metadata": {},
   "outputs": [],
   "source": [
    "n = 3\n",
    "def encode(m):\n",
    "    return sum(2**k for k, e in enumerate(m.flatten()) if e)\n",
    "\n",
    "def decode(c, a=n, b=3):\n",
    "    return np.array([1 if c & (1 << k) else 0 for k in range(a*b)], dtype=object).reshape(a, b)"
   ]
  },
  {
   "cell_type": "code",
   "execution_count": 3,
   "id": "9e46b460-918c-48d4-91fb-87b277c0dcce",
   "metadata": {},
   "outputs": [],
   "source": [
    "F = GF(2)"
   ]
  },
  {
   "cell_type": "code",
   "execution_count": 4,
   "id": "7ba0b9c3-4429-4aa4-9eb3-5637d24fd121",
   "metadata": {},
   "outputs": [],
   "source": [
    "def tp(*ms):\n",
    "    if len(ms) == 1:\n",
    "        return ms[0]\n",
    "    return np.tensordot(ms[0], tp(*ms[1:]), axes=0)"
   ]
  },
  {
   "cell_type": "code",
   "execution_count": 5,
   "id": "883920b6-e9b4-4c8a-a873-f881048ef146",
   "metadata": {},
   "outputs": [],
   "source": [
    "def t2p(t):\n",
    "    return list(t.flatten())"
   ]
  },
  {
   "cell_type": "code",
   "execution_count": 6,
   "id": "1faf6adc-7233-46bc-90e1-77db31b91229",
   "metadata": {},
   "outputs": [],
   "source": [
    "def get_t(n):\n",
    "    T = np.zeros((n,)*6, dtype=object)\n",
    "    for i, j, k in itertools.product(range(n), repeat=3):\n",
    "        T[i, j, j, k, k, i] = 1\n",
    "    return T"
   ]
  },
  {
   "cell_type": "code",
   "execution_count": 7,
   "id": "e241390a-5df2-4d86-8534-598f92cfb9e3",
   "metadata": {},
   "outputs": [],
   "source": [
    "E = np.eye(n, dtype=object)\n",
    "T = get_t(n) - tp(E, E, E)"
   ]
  },
  {
   "cell_type": "code",
   "execution_count": 8,
   "id": "678b5fa0-d3c7-4d50-a80e-58e84f5eed72",
   "metadata": {},
   "outputs": [],
   "source": [
    "def fill(t):\n",
    "    m = t2p(t).count('*')\n",
    "    R = PolynomialRing(F, 'x', m)\n",
    "    k = 0\n",
    "    for alpha in itertools.product(*map(range, t.shape)):\n",
    "        if t[alpha] == '*':\n",
    "            t[alpha] = R.gen(k)\n",
    "            k += 1\n",
    "    return R, t"
   ]
  },
  {
   "cell_type": "code",
   "execution_count": 9,
   "id": "972cf002-f1a4-4dac-b9e6-28cd75bafbe0",
   "metadata": {},
   "outputs": [
    {
     "data": {
      "text/plain": [
       "[(238, 239, 247, 91, 91, 219),\n",
       " (238, 239, 247, 91, 109, 219),\n",
       " (238, 239, 247, 91, 203, 219),\n",
       " (238, 239, 247, 91, 211, 219),\n",
       " (238, 239, 247, 91, 217, 219),\n",
       " (238, 239, 247, 91, 218, 219),\n",
       " (238, 239, 247, 109, 109, 219),\n",
       " (238, 239, 247, 109, 203, 219),\n",
       " (238, 239, 247, 109, 217, 219),\n",
       " (238, 239, 247, 109, 218, 219)]"
      ]
     },
     "execution_count": 9,
     "metadata": {},
     "output_type": "execute_result"
    }
   ],
   "source": [
    "import pickle\n",
    "with open(f'result{n}.pickle', 'rb') as fin:\n",
    "    codes = pickle.load(fin)\n",
    "codes[:10]"
   ]
  },
  {
   "cell_type": "code",
   "execution_count": 10,
   "id": "6fff728a-966b-4c08-aa96-6f6572274d2b",
   "metadata": {},
   "outputs": [
    {
     "name": "stdout",
     "output_type": "stream",
     "text": [
      "249\n"
     ]
    }
   ],
   "source": [
    "r = 6\n",
    "R = PolynomialRing(F, 'x', r*3*n*n)\n",
    "X = np.array(R.gens()).reshape(r, 3, n, n)\n",
    "Y = sum(tp(u, v, w) + tp(v, w, u) + tp(w, u, v) for u, v, w in X)\n",
    "polys = list({R(p) for p in t2p(Y - T)} - {0})\n",
    "print(len(polys))\n",
    "s = z3.Solver()\n",
    "dct = {f'x{i}' : z3.Bool(f'x{i}') for i in range(R.ngens())} | {'1' : True}\n",
    "for p in polys:\n",
    "    s.add(z3.Not(functools.reduce(z3.Xor, (z3.And(*(dct[a] for a in q.split('*'))) for q in str(p).split(' + ')))))"
   ]
  },
  {
   "cell_type": "code",
   "execution_count": 11,
   "id": "b4540383-8f3b-4eef-a80d-4cc49cfb37a0",
   "metadata": {},
   "outputs": [],
   "source": [
    "def process_one(code):\n",
    "    s.push()\n",
    "    for i in range(r):\n",
    "        m = decode(code[i])\n",
    "        for j in range(3):\n",
    "            for k in range(n):\n",
    "                v = dct[str(X[i, j, k, k])]\n",
    "                s.add(v if m[k, j] else z3.Not(v))\n",
    "    if s.check().r != -1:\n",
    "        print(code)\n",
    "        with open(f'success{n}', 'a') as fsuc:\n",
    "            print(code, file=fsuc)\n",
    "    s.pop()"
   ]
  },
  {
   "cell_type": "code",
   "execution_count": null,
   "id": "9c0fa78d-df82-4e44-af4d-a84e619e5c35",
   "metadata": {},
   "outputs": [],
   "source": [
    "%%time\n",
    "process_map(process_one, codes, max_workers=4, chunksize=16);"
   ]
  },
  {
   "cell_type": "code",
   "execution_count": null,
   "id": "2a6d9482-2c49-4496-8dee-eb93305243de",
   "metadata": {},
   "outputs": [],
   "source": []
  }
 ],
 "metadata": {
  "kernelspec": {
   "display_name": "SageMath 10.5",
   "language": "sage",
   "name": "sagemath"
  },
  "language_info": {
   "codemirror_mode": {
    "name": "ipython",
    "version": 3
   },
   "file_extension": ".py",
   "mimetype": "text/x-python",
   "name": "python",
   "nbconvert_exporter": "python",
   "pygments_lexer": "ipython3",
   "version": "3.11.2"
  }
 },
 "nbformat": 4,
 "nbformat_minor": 5
}
